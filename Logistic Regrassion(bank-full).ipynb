{
 "cells": [
  {
   "cell_type": "code",
   "execution_count": 76,
   "id": "94f1d5c0",
   "metadata": {
    "ExecuteTime": {
     "end_time": "2023-02-08T12:58:50.501135Z",
     "start_time": "2023-02-08T12:58:50.489959Z"
    }
   },
   "outputs": [],
   "source": [
    "import pandas as pd \n",
    "import numpy as np\n",
    "import matplotlib.pyplot as plt\n",
    "import seaborn as sns\n",
    "%matplotlib inline\n",
    "from sklearn.model_selection import train_test_split\n",
    "from sklearn.linear_model import LogisticRegression\n",
    "from sklearn.metrics import classification_report,confusion_matrix, accuracy_score\n",
    "from sklearn.metrics import roc_curve\n",
    "from sklearn.metrics import roc_auc_score\n",
    "from sklearn.preprocessing import StandardScaler\n",
    "import warnings\n",
    "warnings.filterwarnings('ignore')"
   ]
  },
  {
   "cell_type": "code",
   "execution_count": 19,
   "id": "815fee88",
   "metadata": {
    "ExecuteTime": {
     "end_time": "2023-02-08T12:20:30.428039Z",
     "start_time": "2023-02-08T12:20:30.281315Z"
    }
   },
   "outputs": [
    {
     "data": {
      "text/html": [
       "<div>\n",
       "<style scoped>\n",
       "    .dataframe tbody tr th:only-of-type {\n",
       "        vertical-align: middle;\n",
       "    }\n",
       "\n",
       "    .dataframe tbody tr th {\n",
       "        vertical-align: top;\n",
       "    }\n",
       "\n",
       "    .dataframe thead th {\n",
       "        text-align: right;\n",
       "    }\n",
       "</style>\n",
       "<table border=\"1\" class=\"dataframe\">\n",
       "  <thead>\n",
       "    <tr style=\"text-align: right;\">\n",
       "      <th></th>\n",
       "      <th>age</th>\n",
       "      <th>job</th>\n",
       "      <th>marital</th>\n",
       "      <th>education</th>\n",
       "      <th>default</th>\n",
       "      <th>balance</th>\n",
       "      <th>housing</th>\n",
       "      <th>loan</th>\n",
       "      <th>contact</th>\n",
       "      <th>day</th>\n",
       "      <th>month</th>\n",
       "      <th>duration</th>\n",
       "      <th>campaign</th>\n",
       "      <th>pdays</th>\n",
       "      <th>previous</th>\n",
       "      <th>poutcome</th>\n",
       "      <th>y</th>\n",
       "    </tr>\n",
       "  </thead>\n",
       "  <tbody>\n",
       "    <tr>\n",
       "      <th>0</th>\n",
       "      <td>58</td>\n",
       "      <td>management</td>\n",
       "      <td>married</td>\n",
       "      <td>tertiary</td>\n",
       "      <td>no</td>\n",
       "      <td>2143</td>\n",
       "      <td>yes</td>\n",
       "      <td>no</td>\n",
       "      <td>unknown</td>\n",
       "      <td>5</td>\n",
       "      <td>may</td>\n",
       "      <td>261</td>\n",
       "      <td>1</td>\n",
       "      <td>-1</td>\n",
       "      <td>0</td>\n",
       "      <td>unknown</td>\n",
       "      <td>no</td>\n",
       "    </tr>\n",
       "    <tr>\n",
       "      <th>1</th>\n",
       "      <td>44</td>\n",
       "      <td>technician</td>\n",
       "      <td>single</td>\n",
       "      <td>secondary</td>\n",
       "      <td>no</td>\n",
       "      <td>29</td>\n",
       "      <td>yes</td>\n",
       "      <td>no</td>\n",
       "      <td>unknown</td>\n",
       "      <td>5</td>\n",
       "      <td>may</td>\n",
       "      <td>151</td>\n",
       "      <td>1</td>\n",
       "      <td>-1</td>\n",
       "      <td>0</td>\n",
       "      <td>unknown</td>\n",
       "      <td>no</td>\n",
       "    </tr>\n",
       "    <tr>\n",
       "      <th>2</th>\n",
       "      <td>33</td>\n",
       "      <td>entrepreneur</td>\n",
       "      <td>married</td>\n",
       "      <td>secondary</td>\n",
       "      <td>no</td>\n",
       "      <td>2</td>\n",
       "      <td>yes</td>\n",
       "      <td>yes</td>\n",
       "      <td>unknown</td>\n",
       "      <td>5</td>\n",
       "      <td>may</td>\n",
       "      <td>76</td>\n",
       "      <td>1</td>\n",
       "      <td>-1</td>\n",
       "      <td>0</td>\n",
       "      <td>unknown</td>\n",
       "      <td>no</td>\n",
       "    </tr>\n",
       "    <tr>\n",
       "      <th>3</th>\n",
       "      <td>47</td>\n",
       "      <td>blue-collar</td>\n",
       "      <td>married</td>\n",
       "      <td>unknown</td>\n",
       "      <td>no</td>\n",
       "      <td>1506</td>\n",
       "      <td>yes</td>\n",
       "      <td>no</td>\n",
       "      <td>unknown</td>\n",
       "      <td>5</td>\n",
       "      <td>may</td>\n",
       "      <td>92</td>\n",
       "      <td>1</td>\n",
       "      <td>-1</td>\n",
       "      <td>0</td>\n",
       "      <td>unknown</td>\n",
       "      <td>no</td>\n",
       "    </tr>\n",
       "    <tr>\n",
       "      <th>4</th>\n",
       "      <td>33</td>\n",
       "      <td>unknown</td>\n",
       "      <td>single</td>\n",
       "      <td>unknown</td>\n",
       "      <td>no</td>\n",
       "      <td>1</td>\n",
       "      <td>no</td>\n",
       "      <td>no</td>\n",
       "      <td>unknown</td>\n",
       "      <td>5</td>\n",
       "      <td>may</td>\n",
       "      <td>198</td>\n",
       "      <td>1</td>\n",
       "      <td>-1</td>\n",
       "      <td>0</td>\n",
       "      <td>unknown</td>\n",
       "      <td>no</td>\n",
       "    </tr>\n",
       "    <tr>\n",
       "      <th>...</th>\n",
       "      <td>...</td>\n",
       "      <td>...</td>\n",
       "      <td>...</td>\n",
       "      <td>...</td>\n",
       "      <td>...</td>\n",
       "      <td>...</td>\n",
       "      <td>...</td>\n",
       "      <td>...</td>\n",
       "      <td>...</td>\n",
       "      <td>...</td>\n",
       "      <td>...</td>\n",
       "      <td>...</td>\n",
       "      <td>...</td>\n",
       "      <td>...</td>\n",
       "      <td>...</td>\n",
       "      <td>...</td>\n",
       "      <td>...</td>\n",
       "    </tr>\n",
       "    <tr>\n",
       "      <th>45206</th>\n",
       "      <td>51</td>\n",
       "      <td>technician</td>\n",
       "      <td>married</td>\n",
       "      <td>tertiary</td>\n",
       "      <td>no</td>\n",
       "      <td>825</td>\n",
       "      <td>no</td>\n",
       "      <td>no</td>\n",
       "      <td>cellular</td>\n",
       "      <td>17</td>\n",
       "      <td>nov</td>\n",
       "      <td>977</td>\n",
       "      <td>3</td>\n",
       "      <td>-1</td>\n",
       "      <td>0</td>\n",
       "      <td>unknown</td>\n",
       "      <td>yes</td>\n",
       "    </tr>\n",
       "    <tr>\n",
       "      <th>45207</th>\n",
       "      <td>71</td>\n",
       "      <td>retired</td>\n",
       "      <td>divorced</td>\n",
       "      <td>primary</td>\n",
       "      <td>no</td>\n",
       "      <td>1729</td>\n",
       "      <td>no</td>\n",
       "      <td>no</td>\n",
       "      <td>cellular</td>\n",
       "      <td>17</td>\n",
       "      <td>nov</td>\n",
       "      <td>456</td>\n",
       "      <td>2</td>\n",
       "      <td>-1</td>\n",
       "      <td>0</td>\n",
       "      <td>unknown</td>\n",
       "      <td>yes</td>\n",
       "    </tr>\n",
       "    <tr>\n",
       "      <th>45208</th>\n",
       "      <td>72</td>\n",
       "      <td>retired</td>\n",
       "      <td>married</td>\n",
       "      <td>secondary</td>\n",
       "      <td>no</td>\n",
       "      <td>5715</td>\n",
       "      <td>no</td>\n",
       "      <td>no</td>\n",
       "      <td>cellular</td>\n",
       "      <td>17</td>\n",
       "      <td>nov</td>\n",
       "      <td>1127</td>\n",
       "      <td>5</td>\n",
       "      <td>184</td>\n",
       "      <td>3</td>\n",
       "      <td>success</td>\n",
       "      <td>yes</td>\n",
       "    </tr>\n",
       "    <tr>\n",
       "      <th>45209</th>\n",
       "      <td>57</td>\n",
       "      <td>blue-collar</td>\n",
       "      <td>married</td>\n",
       "      <td>secondary</td>\n",
       "      <td>no</td>\n",
       "      <td>668</td>\n",
       "      <td>no</td>\n",
       "      <td>no</td>\n",
       "      <td>telephone</td>\n",
       "      <td>17</td>\n",
       "      <td>nov</td>\n",
       "      <td>508</td>\n",
       "      <td>4</td>\n",
       "      <td>-1</td>\n",
       "      <td>0</td>\n",
       "      <td>unknown</td>\n",
       "      <td>no</td>\n",
       "    </tr>\n",
       "    <tr>\n",
       "      <th>45210</th>\n",
       "      <td>37</td>\n",
       "      <td>entrepreneur</td>\n",
       "      <td>married</td>\n",
       "      <td>secondary</td>\n",
       "      <td>no</td>\n",
       "      <td>2971</td>\n",
       "      <td>no</td>\n",
       "      <td>no</td>\n",
       "      <td>cellular</td>\n",
       "      <td>17</td>\n",
       "      <td>nov</td>\n",
       "      <td>361</td>\n",
       "      <td>2</td>\n",
       "      <td>188</td>\n",
       "      <td>11</td>\n",
       "      <td>other</td>\n",
       "      <td>no</td>\n",
       "    </tr>\n",
       "  </tbody>\n",
       "</table>\n",
       "<p>45211 rows × 17 columns</p>\n",
       "</div>"
      ],
      "text/plain": [
       "       age           job   marital  education default  balance housing loan  \\\n",
       "0       58    management   married   tertiary      no     2143     yes   no   \n",
       "1       44    technician    single  secondary      no       29     yes   no   \n",
       "2       33  entrepreneur   married  secondary      no        2     yes  yes   \n",
       "3       47   blue-collar   married    unknown      no     1506     yes   no   \n",
       "4       33       unknown    single    unknown      no        1      no   no   \n",
       "...    ...           ...       ...        ...     ...      ...     ...  ...   \n",
       "45206   51    technician   married   tertiary      no      825      no   no   \n",
       "45207   71       retired  divorced    primary      no     1729      no   no   \n",
       "45208   72       retired   married  secondary      no     5715      no   no   \n",
       "45209   57   blue-collar   married  secondary      no      668      no   no   \n",
       "45210   37  entrepreneur   married  secondary      no     2971      no   no   \n",
       "\n",
       "         contact  day month  duration  campaign  pdays  previous poutcome    y  \n",
       "0        unknown    5   may       261         1     -1         0  unknown   no  \n",
       "1        unknown    5   may       151         1     -1         0  unknown   no  \n",
       "2        unknown    5   may        76         1     -1         0  unknown   no  \n",
       "3        unknown    5   may        92         1     -1         0  unknown   no  \n",
       "4        unknown    5   may       198         1     -1         0  unknown   no  \n",
       "...          ...  ...   ...       ...       ...    ...       ...      ...  ...  \n",
       "45206   cellular   17   nov       977         3     -1         0  unknown  yes  \n",
       "45207   cellular   17   nov       456         2     -1         0  unknown  yes  \n",
       "45208   cellular   17   nov      1127         5    184         3  success  yes  \n",
       "45209  telephone   17   nov       508         4     -1         0  unknown   no  \n",
       "45210   cellular   17   nov       361         2    188        11    other   no  \n",
       "\n",
       "[45211 rows x 17 columns]"
      ]
     },
     "execution_count": 19,
     "metadata": {},
     "output_type": "execute_result"
    }
   ],
   "source": [
    "df = pd.read_csv('bank-full.csv',sep=';')\n",
    "df"
   ]
  },
  {
   "cell_type": "markdown",
   "id": "e65d61dd",
   "metadata": {
    "ExecuteTime": {
     "end_time": "2023-02-08T09:32:57.563080Z",
     "start_time": "2023-02-08T09:32:57.551429Z"
    }
   },
   "source": [
    "## EDA"
   ]
  },
  {
   "cell_type": "code",
   "execution_count": 23,
   "id": "3463cadd",
   "metadata": {
    "ExecuteTime": {
     "end_time": "2023-02-08T12:23:05.392913Z",
     "start_time": "2023-02-08T12:23:05.353901Z"
    }
   },
   "outputs": [
    {
     "data": {
      "text/html": [
       "<div>\n",
       "<style scoped>\n",
       "    .dataframe tbody tr th:only-of-type {\n",
       "        vertical-align: middle;\n",
       "    }\n",
       "\n",
       "    .dataframe tbody tr th {\n",
       "        vertical-align: top;\n",
       "    }\n",
       "\n",
       "    .dataframe thead th {\n",
       "        text-align: right;\n",
       "    }\n",
       "</style>\n",
       "<table border=\"1\" class=\"dataframe\">\n",
       "  <thead>\n",
       "    <tr style=\"text-align: right;\">\n",
       "      <th></th>\n",
       "      <th>age</th>\n",
       "      <th>balance</th>\n",
       "      <th>day</th>\n",
       "      <th>duration</th>\n",
       "      <th>campaign</th>\n",
       "      <th>pdays</th>\n",
       "      <th>previous</th>\n",
       "    </tr>\n",
       "  </thead>\n",
       "  <tbody>\n",
       "    <tr>\n",
       "      <th>count</th>\n",
       "      <td>45211.000000</td>\n",
       "      <td>45211.000000</td>\n",
       "      <td>45211.000000</td>\n",
       "      <td>45211.000000</td>\n",
       "      <td>45211.000000</td>\n",
       "      <td>45211.000000</td>\n",
       "      <td>45211.000000</td>\n",
       "    </tr>\n",
       "    <tr>\n",
       "      <th>mean</th>\n",
       "      <td>40.936210</td>\n",
       "      <td>1362.272058</td>\n",
       "      <td>15.806419</td>\n",
       "      <td>258.163080</td>\n",
       "      <td>2.763841</td>\n",
       "      <td>40.197828</td>\n",
       "      <td>0.580323</td>\n",
       "    </tr>\n",
       "    <tr>\n",
       "      <th>std</th>\n",
       "      <td>10.618762</td>\n",
       "      <td>3044.765829</td>\n",
       "      <td>8.322476</td>\n",
       "      <td>257.527812</td>\n",
       "      <td>3.098021</td>\n",
       "      <td>100.128746</td>\n",
       "      <td>2.303441</td>\n",
       "    </tr>\n",
       "    <tr>\n",
       "      <th>min</th>\n",
       "      <td>18.000000</td>\n",
       "      <td>-8019.000000</td>\n",
       "      <td>1.000000</td>\n",
       "      <td>0.000000</td>\n",
       "      <td>1.000000</td>\n",
       "      <td>-1.000000</td>\n",
       "      <td>0.000000</td>\n",
       "    </tr>\n",
       "    <tr>\n",
       "      <th>25%</th>\n",
       "      <td>33.000000</td>\n",
       "      <td>72.000000</td>\n",
       "      <td>8.000000</td>\n",
       "      <td>103.000000</td>\n",
       "      <td>1.000000</td>\n",
       "      <td>-1.000000</td>\n",
       "      <td>0.000000</td>\n",
       "    </tr>\n",
       "    <tr>\n",
       "      <th>50%</th>\n",
       "      <td>39.000000</td>\n",
       "      <td>448.000000</td>\n",
       "      <td>16.000000</td>\n",
       "      <td>180.000000</td>\n",
       "      <td>2.000000</td>\n",
       "      <td>-1.000000</td>\n",
       "      <td>0.000000</td>\n",
       "    </tr>\n",
       "    <tr>\n",
       "      <th>75%</th>\n",
       "      <td>48.000000</td>\n",
       "      <td>1428.000000</td>\n",
       "      <td>21.000000</td>\n",
       "      <td>319.000000</td>\n",
       "      <td>3.000000</td>\n",
       "      <td>-1.000000</td>\n",
       "      <td>0.000000</td>\n",
       "    </tr>\n",
       "    <tr>\n",
       "      <th>max</th>\n",
       "      <td>95.000000</td>\n",
       "      <td>102127.000000</td>\n",
       "      <td>31.000000</td>\n",
       "      <td>4918.000000</td>\n",
       "      <td>63.000000</td>\n",
       "      <td>871.000000</td>\n",
       "      <td>275.000000</td>\n",
       "    </tr>\n",
       "  </tbody>\n",
       "</table>\n",
       "</div>"
      ],
      "text/plain": [
       "                age        balance           day      duration      campaign  \\\n",
       "count  45211.000000   45211.000000  45211.000000  45211.000000  45211.000000   \n",
       "mean      40.936210    1362.272058     15.806419    258.163080      2.763841   \n",
       "std       10.618762    3044.765829      8.322476    257.527812      3.098021   \n",
       "min       18.000000   -8019.000000      1.000000      0.000000      1.000000   \n",
       "25%       33.000000      72.000000      8.000000    103.000000      1.000000   \n",
       "50%       39.000000     448.000000     16.000000    180.000000      2.000000   \n",
       "75%       48.000000    1428.000000     21.000000    319.000000      3.000000   \n",
       "max       95.000000  102127.000000     31.000000   4918.000000     63.000000   \n",
       "\n",
       "              pdays      previous  \n",
       "count  45211.000000  45211.000000  \n",
       "mean      40.197828      0.580323  \n",
       "std      100.128746      2.303441  \n",
       "min       -1.000000      0.000000  \n",
       "25%       -1.000000      0.000000  \n",
       "50%       -1.000000      0.000000  \n",
       "75%       -1.000000      0.000000  \n",
       "max      871.000000    275.000000  "
      ]
     },
     "execution_count": 23,
     "metadata": {},
     "output_type": "execute_result"
    }
   ],
   "source": [
    "df.describe()            \n",
    "#The column balance duration are right skewed and there may be some outliers."
   ]
  },
  {
   "cell_type": "code",
   "execution_count": 24,
   "id": "60781de7",
   "metadata": {
    "ExecuteTime": {
     "end_time": "2023-02-08T12:23:27.147234Z",
     "start_time": "2023-02-08T12:23:27.089130Z"
    }
   },
   "outputs": [
    {
     "data": {
      "text/plain": [
       "age          0\n",
       "job          0\n",
       "marital      0\n",
       "education    0\n",
       "default      0\n",
       "balance      0\n",
       "housing      0\n",
       "loan         0\n",
       "contact      0\n",
       "day          0\n",
       "month        0\n",
       "duration     0\n",
       "campaign     0\n",
       "pdays        0\n",
       "previous     0\n",
       "poutcome     0\n",
       "y            0\n",
       "dtype: int64"
      ]
     },
     "execution_count": 24,
     "metadata": {},
     "output_type": "execute_result"
    }
   ],
   "source": [
    "df.isna().sum()    \n",
    "# no null values."
   ]
  },
  {
   "cell_type": "code",
   "execution_count": 25,
   "id": "94702e1b",
   "metadata": {
    "ExecuteTime": {
     "end_time": "2023-02-08T12:23:49.942255Z",
     "start_time": "2023-02-08T12:23:49.929676Z"
    }
   },
   "outputs": [
    {
     "data": {
      "text/plain": [
       "array(['management', 'technician', 'entrepreneur', 'blue-collar',\n",
       "       'unknown', 'retired', 'admin.', 'services', 'self-employed',\n",
       "       'unemployed', 'housemaid', 'student'], dtype=object)"
      ]
     },
     "execution_count": 25,
     "metadata": {},
     "output_type": "execute_result"
    }
   ],
   "source": [
    "df['job'].unique()"
   ]
  },
  {
   "cell_type": "code",
   "execution_count": 26,
   "id": "38cb9c23",
   "metadata": {
    "ExecuteTime": {
     "end_time": "2023-02-08T12:24:20.550014Z",
     "start_time": "2023-02-08T12:24:20.534638Z"
    }
   },
   "outputs": [
    {
     "data": {
      "text/plain": [
       "12"
      ]
     },
     "execution_count": 26,
     "metadata": {},
     "output_type": "execute_result"
    }
   ],
   "source": [
    "df['job'].nunique()"
   ]
  },
  {
   "cell_type": "code",
   "execution_count": 28,
   "id": "0bb98afc",
   "metadata": {
    "ExecuteTime": {
     "end_time": "2023-02-08T12:25:17.374922Z",
     "start_time": "2023-02-08T12:25:17.359721Z"
    }
   },
   "outputs": [
    {
     "data": {
      "text/plain": [
       "array(['tertiary', 'secondary', 'unknown', 'primary'], dtype=object)"
      ]
     },
     "execution_count": 28,
     "metadata": {},
     "output_type": "execute_result"
    }
   ],
   "source": [
    "df['education'].unique()"
   ]
  },
  {
   "cell_type": "code",
   "execution_count": 30,
   "id": "933a8ea4",
   "metadata": {
    "ExecuteTime": {
     "end_time": "2023-02-08T12:26:11.672136Z",
     "start_time": "2023-02-08T12:26:11.651096Z"
    }
   },
   "outputs": [
    {
     "data": {
      "text/plain": [
       "4"
      ]
     },
     "execution_count": 30,
     "metadata": {},
     "output_type": "execute_result"
    }
   ],
   "source": [
    "df['education'].nunique()"
   ]
  },
  {
   "cell_type": "code",
   "execution_count": 31,
   "id": "7c160408",
   "metadata": {
    "ExecuteTime": {
     "end_time": "2023-02-08T12:26:49.754292Z",
     "start_time": "2023-02-08T12:26:49.739675Z"
    }
   },
   "outputs": [
    {
     "data": {
      "text/plain": [
       "array(['no', 'yes'], dtype=object)"
      ]
     },
     "execution_count": 31,
     "metadata": {},
     "output_type": "execute_result"
    }
   ],
   "source": [
    "df['default'].unique()"
   ]
  },
  {
   "cell_type": "code",
   "execution_count": 32,
   "id": "73bbf318",
   "metadata": {
    "ExecuteTime": {
     "end_time": "2023-02-08T12:27:20.293134Z",
     "start_time": "2023-02-08T12:27:20.272069Z"
    }
   },
   "outputs": [
    {
     "data": {
      "text/plain": [
       "2"
      ]
     },
     "execution_count": 32,
     "metadata": {},
     "output_type": "execute_result"
    }
   ],
   "source": [
    "df['default'].nunique()"
   ]
  },
  {
   "cell_type": "code",
   "execution_count": 33,
   "id": "2a75c21c",
   "metadata": {
    "ExecuteTime": {
     "end_time": "2023-02-08T12:27:36.729445Z",
     "start_time": "2023-02-08T12:27:36.682057Z"
    }
   },
   "outputs": [
    {
     "data": {
      "text/plain": [
       "0"
      ]
     },
     "execution_count": 33,
     "metadata": {},
     "output_type": "execute_result"
    }
   ],
   "source": [
    "df.duplicated().sum()      #No duplicate value"
   ]
  },
  {
   "cell_type": "markdown",
   "id": "635ca8b3",
   "metadata": {},
   "source": [
    "## For Outlliers Detection"
   ]
  },
  {
   "cell_type": "code",
   "execution_count": 34,
   "id": "c8eaab6d",
   "metadata": {
    "ExecuteTime": {
     "end_time": "2023-02-08T12:28:42.619656Z",
     "start_time": "2023-02-08T12:28:42.516240Z"
    }
   },
   "outputs": [
    {
     "data": {
      "text/plain": [
       "<function matplotlib.pyplot.grid(visible=None, which='major', axis='both', **kwargs)>"
      ]
     },
     "execution_count": 34,
     "metadata": {},
     "output_type": "execute_result"
    },
    {
     "data": {
      "image/png": "[encoded data removed]",
      "text/plain": [
       "<Figure size 640x480 with 1 Axes>"
      ]
     },
     "metadata": {},
     "output_type": "display_data"
    }
   ],
   "source": [
    "plt.hist(df['age'])\n",
    "plt.grid"
   ]
  },
  {
   "cell_type": "code",
   "execution_count": 35,
   "id": "177072c8",
   "metadata": {
    "ExecuteTime": {
     "end_time": "2023-02-08T12:29:09.573054Z",
     "start_time": "2023-02-08T12:29:09.483652Z"
    }
   },
   "outputs": [
    {
     "data": {
      "text/plain": [
       "{'whiskers': [<matplotlib.lines.Line2D at 0x174cc3def70>,\n",
       "  <matplotlib.lines.Line2D at 0x174cc3de400>],\n",
       " 'caps': [<matplotlib.lines.Line2D at 0x174c79fd250>,\n",
       "  <matplotlib.lines.Line2D at 0x174c79fd6a0>],\n",
       " 'boxes': [<matplotlib.lines.Line2D at 0x174cc3de4c0>],\n",
       " 'medians': [<matplotlib.lines.Line2D at 0x174c79fda30>],\n",
       " 'fliers': [<matplotlib.lines.Line2D at 0x174c79fdd60>],\n",
       " 'means': []}"
      ]
     },
     "execution_count": 35,
     "metadata": {},
     "output_type": "execute_result"
    },
    {
     "data": {
      "image/png": "[encoded data removed]",
      "text/plain": [
       "<Figure size 640x480 with 1 Axes>"
      ]
     },
     "metadata": {},
     "output_type": "display_data"
    }
   ],
   "source": [
    "plt.boxplot(df['age'])    # Some outliers in age columns"
   ]
  },
  {
   "cell_type": "code",
   "execution_count": 36,
   "id": "ceb0ad98",
   "metadata": {
    "ExecuteTime": {
     "end_time": "2023-02-08T12:33:53.280126Z",
     "start_time": "2023-02-08T12:33:53.169717Z"
    }
   },
   "outputs": [
    {
     "data": {
      "text/plain": [
       "<function matplotlib.pyplot.grid(visible=None, which='major', axis='both', **kwargs)>"
      ]
     },
     "execution_count": 36,
     "metadata": {},
     "output_type": "execute_result"
    },
    {
     "data": {
      "image/png": "[encoded data removed]",
      "text/plain": [
       "<Figure size 640x480 with 1 Axes>"
      ]
     },
     "metadata": {},
     "output_type": "display_data"
    }
   ],
   "source": [
    "plt.hist(df['balance'])\n",
    "plt.grid"
   ]
  },
  {
   "cell_type": "code",
   "execution_count": 37,
   "id": "1ee151f1",
   "metadata": {
    "ExecuteTime": {
     "end_time": "2023-02-08T12:34:20.610909Z",
     "start_time": "2023-02-08T12:34:20.602372Z"
    }
   },
   "outputs": [],
   "source": [
    "median = df['age'].median()"
   ]
  },
  {
   "cell_type": "code",
   "execution_count": 38,
   "id": "203489c2",
   "metadata": {
    "ExecuteTime": {
     "end_time": "2023-02-08T12:35:02.467072Z",
     "start_time": "2023-02-08T12:35:02.454295Z"
    }
   },
   "outputs": [],
   "source": [
    "df[\"age\"] = np.where(df[\"age\"]>70, median,df['age'])"
   ]
  },
  {
   "cell_type": "code",
   "execution_count": 39,
   "id": "7d108b66",
   "metadata": {
    "ExecuteTime": {
     "end_time": "2023-02-08T12:35:12.542380Z",
     "start_time": "2023-02-08T12:35:12.433937Z"
    }
   },
   "outputs": [
    {
     "data": {
      "text/plain": [
       "<AxesSubplot:>"
      ]
     },
     "execution_count": 39,
     "metadata": {},
     "output_type": "execute_result"
    },
    {
     "data": {
      "image/png": "[encoded data removed]",
      "text/plain": [
       "<Figure size 640x480 with 1 Axes>"
      ]
     },
     "metadata": {},
     "output_type": "display_data"
    }
   ],
   "source": [
    "df.boxplot('age')    #Outliers replacement done."
   ]
  },
  {
   "cell_type": "code",
   "execution_count": 40,
   "id": "59c53d2b",
   "metadata": {
    "ExecuteTime": {
     "end_time": "2023-02-08T12:36:30.819861Z",
     "start_time": "2023-02-08T12:36:30.803280Z"
    }
   },
   "outputs": [],
   "source": [
    "from sklearn.preprocessing import LabelEncoder, OneHotEncoder, OrdinalEncoder"
   ]
  },
  {
   "cell_type": "code",
   "execution_count": 41,
   "id": "3db4ada2",
   "metadata": {
    "ExecuteTime": {
     "end_time": "2023-02-08T12:36:44.493115Z",
     "start_time": "2023-02-08T12:36:44.475585Z"
    }
   },
   "outputs": [
    {
     "data": {
      "text/plain": [
       "(45211, 17)"
      ]
     },
     "execution_count": 41,
     "metadata": {},
     "output_type": "execute_result"
    }
   ],
   "source": [
    "df.shape"
   ]
  },
  {
   "cell_type": "code",
   "execution_count": 42,
   "id": "6d31682a",
   "metadata": {
    "ExecuteTime": {
     "end_time": "2023-02-08T12:39:24.442394Z",
     "start_time": "2023-02-08T12:39:24.431368Z"
    }
   },
   "outputs": [],
   "source": [
    "le = LabelEncoder()\n",
    "cols = ['default','education','loan','month','marital','housing','contact','poutcome','y','job']"
   ]
  },
  {
   "cell_type": "code",
   "execution_count": 43,
   "id": "d7048238",
   "metadata": {
    "ExecuteTime": {
     "end_time": "2023-02-08T12:40:28.210874Z",
     "start_time": "2023-02-08T12:40:28.106476Z"
    }
   },
   "outputs": [],
   "source": [
    "df[cols]= df[cols].apply(le.fit_transform)"
   ]
  },
  {
   "cell_type": "code",
   "execution_count": 44,
   "id": "f408f31e",
   "metadata": {
    "ExecuteTime": {
     "end_time": "2023-02-08T12:40:33.977915Z",
     "start_time": "2023-02-08T12:40:33.965122Z"
    }
   },
   "outputs": [
    {
     "data": {
      "text/html": [
       "<div>\n",
       "<style scoped>\n",
       "    .dataframe tbody tr th:only-of-type {\n",
       "        vertical-align: middle;\n",
       "    }\n",
       "\n",
       "    .dataframe tbody tr th {\n",
       "        vertical-align: top;\n",
       "    }\n",
       "\n",
       "    .dataframe thead th {\n",
       "        text-align: right;\n",
       "    }\n",
       "</style>\n",
       "<table border=\"1\" class=\"dataframe\">\n",
       "  <thead>\n",
       "    <tr style=\"text-align: right;\">\n",
       "      <th></th>\n",
       "      <th>age</th>\n",
       "      <th>job</th>\n",
       "      <th>marital</th>\n",
       "      <th>education</th>\n",
       "      <th>default</th>\n",
       "      <th>balance</th>\n",
       "      <th>housing</th>\n",
       "      <th>loan</th>\n",
       "      <th>contact</th>\n",
       "      <th>day</th>\n",
       "      <th>month</th>\n",
       "      <th>duration</th>\n",
       "      <th>campaign</th>\n",
       "      <th>pdays</th>\n",
       "      <th>previous</th>\n",
       "      <th>poutcome</th>\n",
       "      <th>y</th>\n",
       "    </tr>\n",
       "  </thead>\n",
       "  <tbody>\n",
       "    <tr>\n",
       "      <th>0</th>\n",
       "      <td>58.0</td>\n",
       "      <td>4</td>\n",
       "      <td>1</td>\n",
       "      <td>2</td>\n",
       "      <td>0</td>\n",
       "      <td>2143</td>\n",
       "      <td>1</td>\n",
       "      <td>0</td>\n",
       "      <td>2</td>\n",
       "      <td>5</td>\n",
       "      <td>8</td>\n",
       "      <td>261</td>\n",
       "      <td>1</td>\n",
       "      <td>-1</td>\n",
       "      <td>0</td>\n",
       "      <td>3</td>\n",
       "      <td>0</td>\n",
       "    </tr>\n",
       "    <tr>\n",
       "      <th>1</th>\n",
       "      <td>44.0</td>\n",
       "      <td>9</td>\n",
       "      <td>2</td>\n",
       "      <td>1</td>\n",
       "      <td>0</td>\n",
       "      <td>29</td>\n",
       "      <td>1</td>\n",
       "      <td>0</td>\n",
       "      <td>2</td>\n",
       "      <td>5</td>\n",
       "      <td>8</td>\n",
       "      <td>151</td>\n",
       "      <td>1</td>\n",
       "      <td>-1</td>\n",
       "      <td>0</td>\n",
       "      <td>3</td>\n",
       "      <td>0</td>\n",
       "    </tr>\n",
       "    <tr>\n",
       "      <th>2</th>\n",
       "      <td>33.0</td>\n",
       "      <td>2</td>\n",
       "      <td>1</td>\n",
       "      <td>1</td>\n",
       "      <td>0</td>\n",
       "      <td>2</td>\n",
       "      <td>1</td>\n",
       "      <td>1</td>\n",
       "      <td>2</td>\n",
       "      <td>5</td>\n",
       "      <td>8</td>\n",
       "      <td>76</td>\n",
       "      <td>1</td>\n",
       "      <td>-1</td>\n",
       "      <td>0</td>\n",
       "      <td>3</td>\n",
       "      <td>0</td>\n",
       "    </tr>\n",
       "    <tr>\n",
       "      <th>3</th>\n",
       "      <td>47.0</td>\n",
       "      <td>1</td>\n",
       "      <td>1</td>\n",
       "      <td>3</td>\n",
       "      <td>0</td>\n",
       "      <td>1506</td>\n",
       "      <td>1</td>\n",
       "      <td>0</td>\n",
       "      <td>2</td>\n",
       "      <td>5</td>\n",
       "      <td>8</td>\n",
       "      <td>92</td>\n",
       "      <td>1</td>\n",
       "      <td>-1</td>\n",
       "      <td>0</td>\n",
       "      <td>3</td>\n",
       "      <td>0</td>\n",
       "    </tr>\n",
       "    <tr>\n",
       "      <th>4</th>\n",
       "      <td>33.0</td>\n",
       "      <td>11</td>\n",
       "      <td>2</td>\n",
       "      <td>3</td>\n",
       "      <td>0</td>\n",
       "      <td>1</td>\n",
       "      <td>0</td>\n",
       "      <td>0</td>\n",
       "      <td>2</td>\n",
       "      <td>5</td>\n",
       "      <td>8</td>\n",
       "      <td>198</td>\n",
       "      <td>1</td>\n",
       "      <td>-1</td>\n",
       "      <td>0</td>\n",
       "      <td>3</td>\n",
       "      <td>0</td>\n",
       "    </tr>\n",
       "  </tbody>\n",
       "</table>\n",
       "</div>"
      ],
      "text/plain": [
       "    age  job  marital  education  default  balance  housing  loan  contact  \\\n",
       "0  58.0    4        1          2        0     2143        1     0        2   \n",
       "1  44.0    9        2          1        0       29        1     0        2   \n",
       "2  33.0    2        1          1        0        2        1     1        2   \n",
       "3  47.0    1        1          3        0     1506        1     0        2   \n",
       "4  33.0   11        2          3        0        1        0     0        2   \n",
       "\n",
       "   day  month  duration  campaign  pdays  previous  poutcome  y  \n",
       "0    5      8       261         1     -1         0         3  0  \n",
       "1    5      8       151         1     -1         0         3  0  \n",
       "2    5      8        76         1     -1         0         3  0  \n",
       "3    5      8        92         1     -1         0         3  0  \n",
       "4    5      8       198         1     -1         0         3  0  "
      ]
     },
     "execution_count": 44,
     "metadata": {},
     "output_type": "execute_result"
    }
   ],
   "source": [
    "df.head()"
   ]
  },
  {
   "cell_type": "code",
   "execution_count": 45,
   "id": "7d52eeae",
   "metadata": {
    "ExecuteTime": {
     "end_time": "2023-02-08T12:41:00.965123Z",
     "start_time": "2023-02-08T12:41:00.939798Z"
    }
   },
   "outputs": [
    {
     "name": "stdout",
     "output_type": "stream",
     "text": [
      "<class 'pandas.core.frame.DataFrame'>\n",
      "RangeIndex: 45211 entries, 0 to 45210\n",
      "Data columns (total 17 columns):\n",
      " #   Column     Non-Null Count  Dtype  \n",
      "---  ------     --------------  -----  \n",
      " 0   age        45211 non-null  float64\n",
      " 1   job        45211 non-null  int32  \n",
      " 2   marital    45211 non-null  int32  \n",
      " 3   education  45211 non-null  int32  \n",
      " 4   default    45211 non-null  int32  \n",
      " 5   balance    45211 non-null  int64  \n",
      " 6   housing    45211 non-null  int32  \n",
      " 7   loan       45211 non-null  int32  \n",
      " 8   contact    45211 non-null  int32  \n",
      " 9   day        45211 non-null  int64  \n",
      " 10  month      45211 non-null  int32  \n",
      " 11  duration   45211 non-null  int64  \n",
      " 12  campaign   45211 non-null  int64  \n",
      " 13  pdays      45211 non-null  int64  \n",
      " 14  previous   45211 non-null  int64  \n",
      " 15  poutcome   45211 non-null  int32  \n",
      " 16  y          45211 non-null  int32  \n",
      "dtypes: float64(1), int32(10), int64(6)\n",
      "memory usage: 4.1 MB\n"
     ]
    }
   ],
   "source": [
    "df.info()"
   ]
  },
  {
   "cell_type": "code",
   "execution_count": 46,
   "id": "5c630129",
   "metadata": {
    "ExecuteTime": {
     "end_time": "2023-02-08T12:41:13.716750Z",
     "start_time": "2023-02-08T12:41:13.698767Z"
    }
   },
   "outputs": [
    {
     "data": {
      "text/plain": [
       "0        58.0\n",
       "1        44.0\n",
       "2        33.0\n",
       "3        47.0\n",
       "4        33.0\n",
       "         ... \n",
       "45206    51.0\n",
       "45207    39.0\n",
       "45208    39.0\n",
       "45209    57.0\n",
       "45210    37.0\n",
       "Name: age, Length: 45211, dtype: float64"
      ]
     },
     "execution_count": 46,
     "metadata": {},
     "output_type": "execute_result"
    }
   ],
   "source": [
    "df['age']"
   ]
  },
  {
   "cell_type": "code",
   "execution_count": 47,
   "id": "09cecb72",
   "metadata": {
    "ExecuteTime": {
     "end_time": "2023-02-08T12:41:38.520179Z",
     "start_time": "2023-02-08T12:41:38.504937Z"
    }
   },
   "outputs": [],
   "source": [
    "df['age'] = df['age'].astype(int)"
   ]
  },
  {
   "cell_type": "code",
   "execution_count": 48,
   "id": "3d96a327",
   "metadata": {
    "ExecuteTime": {
     "end_time": "2023-02-08T12:41:46.122126Z",
     "start_time": "2023-02-08T12:41:46.110219Z"
    }
   },
   "outputs": [
    {
     "name": "stdout",
     "output_type": "stream",
     "text": [
      "<class 'pandas.core.frame.DataFrame'>\n",
      "RangeIndex: 45211 entries, 0 to 45210\n",
      "Data columns (total 17 columns):\n",
      " #   Column     Non-Null Count  Dtype\n",
      "---  ------     --------------  -----\n",
      " 0   age        45211 non-null  int32\n",
      " 1   job        45211 non-null  int32\n",
      " 2   marital    45211 non-null  int32\n",
      " 3   education  45211 non-null  int32\n",
      " 4   default    45211 non-null  int32\n",
      " 5   balance    45211 non-null  int64\n",
      " 6   housing    45211 non-null  int32\n",
      " 7   loan       45211 non-null  int32\n",
      " 8   contact    45211 non-null  int32\n",
      " 9   day        45211 non-null  int64\n",
      " 10  month      45211 non-null  int32\n",
      " 11  duration   45211 non-null  int64\n",
      " 12  campaign   45211 non-null  int64\n",
      " 13  pdays      45211 non-null  int64\n",
      " 14  previous   45211 non-null  int64\n",
      " 15  poutcome   45211 non-null  int32\n",
      " 16  y          45211 non-null  int32\n",
      "dtypes: int32(11), int64(6)\n",
      "memory usage: 4.0 MB\n"
     ]
    }
   ],
   "source": [
    "df.info()        # Data type of all data set is same."
   ]
  },
  {
   "cell_type": "code",
   "execution_count": 49,
   "id": "54cfaf27",
   "metadata": {
    "ExecuteTime": {
     "end_time": "2023-02-08T12:43:22.838342Z",
     "start_time": "2023-02-08T12:43:22.821144Z"
    }
   },
   "outputs": [],
   "source": [
    "x = df.iloc[:,1:16]\n",
    "y = df.iloc[:,16]"
   ]
  },
  {
   "cell_type": "markdown",
   "id": "8adfe9dc",
   "metadata": {},
   "source": [
    "## Splitting data set into training and testing set"
   ]
  },
  {
   "cell_type": "code",
   "execution_count": 55,
   "id": "fbfb46ed",
   "metadata": {
    "ExecuteTime": {
     "end_time": "2023-02-08T12:45:58.115306Z",
     "start_time": "2023-02-08T12:45:58.097337Z"
    }
   },
   "outputs": [],
   "source": [
    "xtrain,xtest,ytrain,ytest = train_test_split(x,y,test_size=0.25,random_state=1)"
   ]
  },
  {
   "cell_type": "code",
   "execution_count": 56,
   "id": "5e03defe",
   "metadata": {
    "ExecuteTime": {
     "end_time": "2023-02-08T12:45:59.279457Z",
     "start_time": "2023-02-08T12:45:59.262057Z"
    }
   },
   "outputs": [
    {
     "data": {
      "text/html": [
       "<div>\n",
       "<style scoped>\n",
       "    .dataframe tbody tr th:only-of-type {\n",
       "        vertical-align: middle;\n",
       "    }\n",
       "\n",
       "    .dataframe tbody tr th {\n",
       "        vertical-align: top;\n",
       "    }\n",
       "\n",
       "    .dataframe thead th {\n",
       "        text-align: right;\n",
       "    }\n",
       "</style>\n",
       "<table border=\"1\" class=\"dataframe\">\n",
       "  <thead>\n",
       "    <tr style=\"text-align: right;\">\n",
       "      <th></th>\n",
       "      <th>job</th>\n",
       "      <th>marital</th>\n",
       "      <th>education</th>\n",
       "      <th>default</th>\n",
       "      <th>balance</th>\n",
       "      <th>housing</th>\n",
       "      <th>loan</th>\n",
       "      <th>contact</th>\n",
       "      <th>day</th>\n",
       "      <th>month</th>\n",
       "      <th>duration</th>\n",
       "      <th>campaign</th>\n",
       "      <th>pdays</th>\n",
       "      <th>previous</th>\n",
       "      <th>poutcome</th>\n",
       "    </tr>\n",
       "  </thead>\n",
       "  <tbody>\n",
       "    <tr>\n",
       "      <th>32731</th>\n",
       "      <td>1</td>\n",
       "      <td>1</td>\n",
       "      <td>1</td>\n",
       "      <td>0</td>\n",
       "      <td>137</td>\n",
       "      <td>1</td>\n",
       "      <td>0</td>\n",
       "      <td>0</td>\n",
       "      <td>17</td>\n",
       "      <td>0</td>\n",
       "      <td>343</td>\n",
       "      <td>2</td>\n",
       "      <td>316</td>\n",
       "      <td>3</td>\n",
       "      <td>1</td>\n",
       "    </tr>\n",
       "    <tr>\n",
       "      <th>1498</th>\n",
       "      <td>1</td>\n",
       "      <td>1</td>\n",
       "      <td>0</td>\n",
       "      <td>0</td>\n",
       "      <td>830</td>\n",
       "      <td>1</td>\n",
       "      <td>0</td>\n",
       "      <td>2</td>\n",
       "      <td>8</td>\n",
       "      <td>8</td>\n",
       "      <td>246</td>\n",
       "      <td>2</td>\n",
       "      <td>-1</td>\n",
       "      <td>0</td>\n",
       "      <td>3</td>\n",
       "    </tr>\n",
       "    <tr>\n",
       "      <th>17532</th>\n",
       "      <td>9</td>\n",
       "      <td>1</td>\n",
       "      <td>2</td>\n",
       "      <td>0</td>\n",
       "      <td>1103</td>\n",
       "      <td>1</td>\n",
       "      <td>1</td>\n",
       "      <td>0</td>\n",
       "      <td>29</td>\n",
       "      <td>5</td>\n",
       "      <td>148</td>\n",
       "      <td>15</td>\n",
       "      <td>-1</td>\n",
       "      <td>0</td>\n",
       "      <td>3</td>\n",
       "    </tr>\n",
       "    <tr>\n",
       "      <th>8166</th>\n",
       "      <td>7</td>\n",
       "      <td>2</td>\n",
       "      <td>1</td>\n",
       "      <td>0</td>\n",
       "      <td>229</td>\n",
       "      <td>1</td>\n",
       "      <td>0</td>\n",
       "      <td>2</td>\n",
       "      <td>2</td>\n",
       "      <td>6</td>\n",
       "      <td>214</td>\n",
       "      <td>2</td>\n",
       "      <td>-1</td>\n",
       "      <td>0</td>\n",
       "      <td>3</td>\n",
       "    </tr>\n",
       "    <tr>\n",
       "      <th>15495</th>\n",
       "      <td>4</td>\n",
       "      <td>1</td>\n",
       "      <td>1</td>\n",
       "      <td>0</td>\n",
       "      <td>2858</td>\n",
       "      <td>1</td>\n",
       "      <td>1</td>\n",
       "      <td>0</td>\n",
       "      <td>18</td>\n",
       "      <td>5</td>\n",
       "      <td>247</td>\n",
       "      <td>5</td>\n",
       "      <td>-1</td>\n",
       "      <td>0</td>\n",
       "      <td>3</td>\n",
       "    </tr>\n",
       "    <tr>\n",
       "      <th>...</th>\n",
       "      <td>...</td>\n",
       "      <td>...</td>\n",
       "      <td>...</td>\n",
       "      <td>...</td>\n",
       "      <td>...</td>\n",
       "      <td>...</td>\n",
       "      <td>...</td>\n",
       "      <td>...</td>\n",
       "      <td>...</td>\n",
       "      <td>...</td>\n",
       "      <td>...</td>\n",
       "      <td>...</td>\n",
       "      <td>...</td>\n",
       "      <td>...</td>\n",
       "      <td>...</td>\n",
       "    </tr>\n",
       "    <tr>\n",
       "      <th>43723</th>\n",
       "      <td>9</td>\n",
       "      <td>1</td>\n",
       "      <td>2</td>\n",
       "      <td>0</td>\n",
       "      <td>1830</td>\n",
       "      <td>0</td>\n",
       "      <td>0</td>\n",
       "      <td>0</td>\n",
       "      <td>14</td>\n",
       "      <td>8</td>\n",
       "      <td>318</td>\n",
       "      <td>3</td>\n",
       "      <td>-1</td>\n",
       "      <td>0</td>\n",
       "      <td>3</td>\n",
       "    </tr>\n",
       "    <tr>\n",
       "      <th>32511</th>\n",
       "      <td>4</td>\n",
       "      <td>0</td>\n",
       "      <td>2</td>\n",
       "      <td>0</td>\n",
       "      <td>528</td>\n",
       "      <td>1</td>\n",
       "      <td>0</td>\n",
       "      <td>0</td>\n",
       "      <td>17</td>\n",
       "      <td>0</td>\n",
       "      <td>233</td>\n",
       "      <td>2</td>\n",
       "      <td>-1</td>\n",
       "      <td>0</td>\n",
       "      <td>3</td>\n",
       "    </tr>\n",
       "    <tr>\n",
       "      <th>5192</th>\n",
       "      <td>4</td>\n",
       "      <td>1</td>\n",
       "      <td>2</td>\n",
       "      <td>0</td>\n",
       "      <td>4191</td>\n",
       "      <td>0</td>\n",
       "      <td>0</td>\n",
       "      <td>2</td>\n",
       "      <td>21</td>\n",
       "      <td>8</td>\n",
       "      <td>363</td>\n",
       "      <td>6</td>\n",
       "      <td>-1</td>\n",
       "      <td>0</td>\n",
       "      <td>3</td>\n",
       "    </tr>\n",
       "    <tr>\n",
       "      <th>12172</th>\n",
       "      <td>0</td>\n",
       "      <td>1</td>\n",
       "      <td>3</td>\n",
       "      <td>0</td>\n",
       "      <td>1783</td>\n",
       "      <td>0</td>\n",
       "      <td>0</td>\n",
       "      <td>2</td>\n",
       "      <td>20</td>\n",
       "      <td>6</td>\n",
       "      <td>11</td>\n",
       "      <td>11</td>\n",
       "      <td>-1</td>\n",
       "      <td>0</td>\n",
       "      <td>3</td>\n",
       "    </tr>\n",
       "    <tr>\n",
       "      <th>33003</th>\n",
       "      <td>1</td>\n",
       "      <td>1</td>\n",
       "      <td>3</td>\n",
       "      <td>0</td>\n",
       "      <td>349</td>\n",
       "      <td>1</td>\n",
       "      <td>0</td>\n",
       "      <td>0</td>\n",
       "      <td>17</td>\n",
       "      <td>0</td>\n",
       "      <td>179</td>\n",
       "      <td>2</td>\n",
       "      <td>336</td>\n",
       "      <td>2</td>\n",
       "      <td>1</td>\n",
       "    </tr>\n",
       "  </tbody>\n",
       "</table>\n",
       "<p>33908 rows × 15 columns</p>\n",
       "</div>"
      ],
      "text/plain": [
       "       job  marital  education  default  balance  housing  loan  contact  day  \\\n",
       "32731    1        1          1        0      137        1     0        0   17   \n",
       "1498     1        1          0        0      830        1     0        2    8   \n",
       "17532    9        1          2        0     1103        1     1        0   29   \n",
       "8166     7        2          1        0      229        1     0        2    2   \n",
       "15495    4        1          1        0     2858        1     1        0   18   \n",
       "...    ...      ...        ...      ...      ...      ...   ...      ...  ...   \n",
       "43723    9        1          2        0     1830        0     0        0   14   \n",
       "32511    4        0          2        0      528        1     0        0   17   \n",
       "5192     4        1          2        0     4191        0     0        2   21   \n",
       "12172    0        1          3        0     1783        0     0        2   20   \n",
       "33003    1        1          3        0      349        1     0        0   17   \n",
       "\n",
       "       month  duration  campaign  pdays  previous  poutcome  \n",
       "32731      0       343         2    316         3         1  \n",
       "1498       8       246         2     -1         0         3  \n",
       "17532      5       148        15     -1         0         3  \n",
       "8166       6       214         2     -1         0         3  \n",
       "15495      5       247         5     -1         0         3  \n",
       "...      ...       ...       ...    ...       ...       ...  \n",
       "43723      8       318         3     -1         0         3  \n",
       "32511      0       233         2     -1         0         3  \n",
       "5192       8       363         6     -1         0         3  \n",
       "12172      6        11        11     -1         0         3  \n",
       "33003      0       179         2    336         2         1  \n",
       "\n",
       "[33908 rows x 15 columns]"
      ]
     },
     "execution_count": 56,
     "metadata": {},
     "output_type": "execute_result"
    }
   ],
   "source": [
    "xtrain"
   ]
  },
  {
   "cell_type": "code",
   "execution_count": 57,
   "id": "9148e844",
   "metadata": {
    "ExecuteTime": {
     "end_time": "2023-02-08T12:46:00.244208Z",
     "start_time": "2023-02-08T12:46:00.237105Z"
    }
   },
   "outputs": [
    {
     "data": {
      "text/plain": [
       "(33908, 15)"
      ]
     },
     "execution_count": 57,
     "metadata": {},
     "output_type": "execute_result"
    }
   ],
   "source": [
    "xtrain.shape"
   ]
  },
  {
   "cell_type": "code",
   "execution_count": 59,
   "id": "9bc3f44a",
   "metadata": {
    "ExecuteTime": {
     "end_time": "2023-02-08T12:46:12.383133Z",
     "start_time": "2023-02-08T12:46:12.375106Z"
    }
   },
   "outputs": [
    {
     "data": {
      "text/plain": [
       "32731    0\n",
       "1498     0\n",
       "17532    0\n",
       "8166     0\n",
       "15495    0\n",
       "        ..\n",
       "43723    0\n",
       "32511    0\n",
       "5192     0\n",
       "12172    0\n",
       "33003    0\n",
       "Name: y, Length: 33908, dtype: int32"
      ]
     },
     "execution_count": 59,
     "metadata": {},
     "output_type": "execute_result"
    }
   ],
   "source": [
    "ytrain"
   ]
  },
  {
   "cell_type": "markdown",
   "id": "62f42305",
   "metadata": {},
   "source": [
    "## Model Building"
   ]
  },
  {
   "cell_type": "code",
   "execution_count": 62,
   "id": "4e74ad57",
   "metadata": {
    "ExecuteTime": {
     "end_time": "2023-02-08T12:48:56.345377Z",
     "start_time": "2023-02-08T12:48:56.304346Z"
    }
   },
   "outputs": [],
   "source": [
    "sc = StandardScaler()\n",
    "\n",
    "xtrain = sc.fit_transform(xtrain)\n",
    "xtest = sc.fit_transform(xtest)"
   ]
  },
  {
   "cell_type": "code",
   "execution_count": 63,
   "id": "fc70e31c",
   "metadata": {
    "ExecuteTime": {
     "end_time": "2023-02-08T12:49:05.838451Z",
     "start_time": "2023-02-08T12:49:05.819803Z"
    }
   },
   "outputs": [
    {
     "data": {
      "text/plain": [
       "array([[-1.01567473, -0.27720168, -0.29609487, ...,  2.75756048,\n",
       "         1.27620946, -1.58172209],\n",
       "       [-1.01567473, -0.27720168, -1.63422427, ..., -0.40992157,\n",
       "        -0.29917499,  0.44350335],\n",
       "       [ 1.42983476, -0.27720168,  1.04203453, ..., -0.40992157,\n",
       "        -0.29917499,  0.44350335],\n",
       "       ...,\n",
       "       [-0.09860867, -0.27720168,  1.04203453, ..., -0.40992157,\n",
       "        -0.29917499,  0.44350335],\n",
       "       [-1.32136341, -0.27720168,  2.38016392, ..., -0.40992157,\n",
       "        -0.29917499,  0.44350335],\n",
       "       [-1.01567473, -0.27720168,  2.38016392, ...,  2.95740162,\n",
       "         0.75108131, -1.58172209]])"
      ]
     },
     "execution_count": 63,
     "metadata": {},
     "output_type": "execute_result"
    }
   ],
   "source": [
    "xtrain"
   ]
  },
  {
   "cell_type": "code",
   "execution_count": 64,
   "id": "2293ba82",
   "metadata": {
    "ExecuteTime": {
     "end_time": "2023-02-08T12:49:14.158666Z",
     "start_time": "2023-02-08T12:49:14.147619Z"
    }
   },
   "outputs": [
    {
     "data": {
      "text/plain": [
       "Index(['job', 'marital', 'education', 'default', 'balance', 'housing', 'loan',\n",
       "       'contact', 'day', 'month', 'duration', 'campaign', 'pdays', 'previous',\n",
       "       'poutcome'],\n",
       "      dtype='object')"
      ]
     },
     "execution_count": 64,
     "metadata": {},
     "output_type": "execute_result"
    }
   ],
   "source": [
    "x.columns"
   ]
  },
  {
   "cell_type": "code",
   "execution_count": 65,
   "id": "2384bfb5",
   "metadata": {
    "ExecuteTime": {
     "end_time": "2023-02-08T12:49:44.836891Z",
     "start_time": "2023-02-08T12:49:44.828343Z"
    }
   },
   "outputs": [],
   "source": [
    "xtrain = pd.DataFrame(xtrain,columns=x.columns)"
   ]
  },
  {
   "cell_type": "code",
   "execution_count": 66,
   "id": "85149d7f",
   "metadata": {
    "ExecuteTime": {
     "end_time": "2023-02-08T12:49:48.879901Z",
     "start_time": "2023-02-08T12:49:48.857776Z"
    }
   },
   "outputs": [
    {
     "data": {
      "text/html": [
       "<div>\n",
       "<style scoped>\n",
       "    .dataframe tbody tr th:only-of-type {\n",
       "        vertical-align: middle;\n",
       "    }\n",
       "\n",
       "    .dataframe tbody tr th {\n",
       "        vertical-align: top;\n",
       "    }\n",
       "\n",
       "    .dataframe thead th {\n",
       "        text-align: right;\n",
       "    }\n",
       "</style>\n",
       "<table border=\"1\" class=\"dataframe\">\n",
       "  <thead>\n",
       "    <tr style=\"text-align: right;\">\n",
       "      <th></th>\n",
       "      <th>job</th>\n",
       "      <th>marital</th>\n",
       "      <th>education</th>\n",
       "      <th>default</th>\n",
       "      <th>balance</th>\n",
       "      <th>housing</th>\n",
       "      <th>loan</th>\n",
       "      <th>contact</th>\n",
       "      <th>day</th>\n",
       "      <th>month</th>\n",
       "      <th>duration</th>\n",
       "      <th>campaign</th>\n",
       "      <th>pdays</th>\n",
       "      <th>previous</th>\n",
       "      <th>poutcome</th>\n",
       "    </tr>\n",
       "  </thead>\n",
       "  <tbody>\n",
       "    <tr>\n",
       "      <th>0</th>\n",
       "      <td>-1.015675</td>\n",
       "      <td>-0.277202</td>\n",
       "      <td>-0.296095</td>\n",
       "      <td>-0.134556</td>\n",
       "      <td>-0.395753</td>\n",
       "      <td>0.892601</td>\n",
       "      <td>-0.436183</td>\n",
       "      <td>-0.711169</td>\n",
       "      <td>0.143594</td>\n",
       "      <td>-1.840886</td>\n",
       "      <td>0.327199</td>\n",
       "      <td>-0.246900</td>\n",
       "      <td>2.757560</td>\n",
       "      <td>1.276209</td>\n",
       "      <td>-1.581722</td>\n",
       "    </tr>\n",
       "    <tr>\n",
       "      <th>1</th>\n",
       "      <td>-1.015675</td>\n",
       "      <td>-0.277202</td>\n",
       "      <td>-1.634224</td>\n",
       "      <td>-0.134556</td>\n",
       "      <td>-0.173459</td>\n",
       "      <td>0.892601</td>\n",
       "      <td>-0.436183</td>\n",
       "      <td>1.520502</td>\n",
       "      <td>-0.938191</td>\n",
       "      <td>0.822443</td>\n",
       "      <td>-0.047997</td>\n",
       "      <td>-0.246900</td>\n",
       "      <td>-0.409922</td>\n",
       "      <td>-0.299175</td>\n",
       "      <td>0.443503</td>\n",
       "    </tr>\n",
       "    <tr>\n",
       "      <th>2</th>\n",
       "      <td>1.429835</td>\n",
       "      <td>-0.277202</td>\n",
       "      <td>1.042035</td>\n",
       "      <td>-0.134556</td>\n",
       "      <td>-0.085889</td>\n",
       "      <td>0.892601</td>\n",
       "      <td>2.292616</td>\n",
       "      <td>-0.711169</td>\n",
       "      <td>1.585975</td>\n",
       "      <td>-0.176306</td>\n",
       "      <td>-0.427061</td>\n",
       "      <td>3.891759</td>\n",
       "      <td>-0.409922</td>\n",
       "      <td>-0.299175</td>\n",
       "      <td>0.443503</td>\n",
       "    </tr>\n",
       "    <tr>\n",
       "      <th>3</th>\n",
       "      <td>0.818457</td>\n",
       "      <td>1.365755</td>\n",
       "      <td>-0.296095</td>\n",
       "      <td>-0.134556</td>\n",
       "      <td>-0.366243</td>\n",
       "      <td>0.892601</td>\n",
       "      <td>-0.436183</td>\n",
       "      <td>1.520502</td>\n",
       "      <td>-1.659382</td>\n",
       "      <td>0.156610</td>\n",
       "      <td>-0.171773</td>\n",
       "      <td>-0.246900</td>\n",
       "      <td>-0.409922</td>\n",
       "      <td>-0.299175</td>\n",
       "      <td>0.443503</td>\n",
       "    </tr>\n",
       "    <tr>\n",
       "      <th>4</th>\n",
       "      <td>-0.098609</td>\n",
       "      <td>-0.277202</td>\n",
       "      <td>-0.296095</td>\n",
       "      <td>-0.134556</td>\n",
       "      <td>0.477064</td>\n",
       "      <td>0.892601</td>\n",
       "      <td>2.292616</td>\n",
       "      <td>-0.711169</td>\n",
       "      <td>0.263793</td>\n",
       "      <td>-0.176306</td>\n",
       "      <td>-0.044129</td>\n",
       "      <td>0.708176</td>\n",
       "      <td>-0.409922</td>\n",
       "      <td>-0.299175</td>\n",
       "      <td>0.443503</td>\n",
       "    </tr>\n",
       "    <tr>\n",
       "      <th>...</th>\n",
       "      <td>...</td>\n",
       "      <td>...</td>\n",
       "      <td>...</td>\n",
       "      <td>...</td>\n",
       "      <td>...</td>\n",
       "      <td>...</td>\n",
       "      <td>...</td>\n",
       "      <td>...</td>\n",
       "      <td>...</td>\n",
       "      <td>...</td>\n",
       "      <td>...</td>\n",
       "      <td>...</td>\n",
       "      <td>...</td>\n",
       "      <td>...</td>\n",
       "      <td>...</td>\n",
       "    </tr>\n",
       "    <tr>\n",
       "      <th>33903</th>\n",
       "      <td>1.429835</td>\n",
       "      <td>-0.277202</td>\n",
       "      <td>1.042035</td>\n",
       "      <td>-0.134556</td>\n",
       "      <td>0.147312</td>\n",
       "      <td>-1.120322</td>\n",
       "      <td>-0.436183</td>\n",
       "      <td>-0.711169</td>\n",
       "      <td>-0.217001</td>\n",
       "      <td>0.822443</td>\n",
       "      <td>0.230499</td>\n",
       "      <td>0.071459</td>\n",
       "      <td>-0.409922</td>\n",
       "      <td>-0.299175</td>\n",
       "      <td>0.443503</td>\n",
       "    </tr>\n",
       "    <tr>\n",
       "      <th>33904</th>\n",
       "      <td>-0.098609</td>\n",
       "      <td>-1.920158</td>\n",
       "      <td>1.042035</td>\n",
       "      <td>-0.134556</td>\n",
       "      <td>-0.270332</td>\n",
       "      <td>0.892601</td>\n",
       "      <td>-0.436183</td>\n",
       "      <td>-0.711169</td>\n",
       "      <td>0.143594</td>\n",
       "      <td>-1.840886</td>\n",
       "      <td>-0.098281</td>\n",
       "      <td>-0.246900</td>\n",
       "      <td>-0.409922</td>\n",
       "      <td>-0.299175</td>\n",
       "      <td>0.443503</td>\n",
       "    </tr>\n",
       "    <tr>\n",
       "      <th>33905</th>\n",
       "      <td>-0.098609</td>\n",
       "      <td>-0.277202</td>\n",
       "      <td>1.042035</td>\n",
       "      <td>-0.134556</td>\n",
       "      <td>0.904652</td>\n",
       "      <td>-1.120322</td>\n",
       "      <td>-0.436183</td>\n",
       "      <td>1.520502</td>\n",
       "      <td>0.624388</td>\n",
       "      <td>0.822443</td>\n",
       "      <td>0.404559</td>\n",
       "      <td>1.026534</td>\n",
       "      <td>-0.409922</td>\n",
       "      <td>-0.299175</td>\n",
       "      <td>0.443503</td>\n",
       "    </tr>\n",
       "    <tr>\n",
       "      <th>33906</th>\n",
       "      <td>-1.321363</td>\n",
       "      <td>-0.277202</td>\n",
       "      <td>2.380164</td>\n",
       "      <td>-0.134556</td>\n",
       "      <td>0.132235</td>\n",
       "      <td>-1.120322</td>\n",
       "      <td>-0.436183</td>\n",
       "      <td>1.520502</td>\n",
       "      <td>0.504190</td>\n",
       "      <td>0.156610</td>\n",
       "      <td>-0.956977</td>\n",
       "      <td>2.618326</td>\n",
       "      <td>-0.409922</td>\n",
       "      <td>-0.299175</td>\n",
       "      <td>0.443503</td>\n",
       "    </tr>\n",
       "    <tr>\n",
       "      <th>33907</th>\n",
       "      <td>-1.015675</td>\n",
       "      <td>-0.277202</td>\n",
       "      <td>2.380164</td>\n",
       "      <td>-0.134556</td>\n",
       "      <td>-0.327750</td>\n",
       "      <td>0.892601</td>\n",
       "      <td>-0.436183</td>\n",
       "      <td>-0.711169</td>\n",
       "      <td>0.143594</td>\n",
       "      <td>-1.840886</td>\n",
       "      <td>-0.307153</td>\n",
       "      <td>-0.246900</td>\n",
       "      <td>2.957402</td>\n",
       "      <td>0.751081</td>\n",
       "      <td>-1.581722</td>\n",
       "    </tr>\n",
       "  </tbody>\n",
       "</table>\n",
       "<p>33908 rows × 15 columns</p>\n",
       "</div>"
      ],
      "text/plain": [
       "            job   marital  education   default   balance   housing      loan  \\\n",
       "0     -1.015675 -0.277202  -0.296095 -0.134556 -0.395753  0.892601 -0.436183   \n",
       "1     -1.015675 -0.277202  -1.634224 -0.134556 -0.173459  0.892601 -0.436183   \n",
       "2      1.429835 -0.277202   1.042035 -0.134556 -0.085889  0.892601  2.292616   \n",
       "3      0.818457  1.365755  -0.296095 -0.134556 -0.366243  0.892601 -0.436183   \n",
       "4     -0.098609 -0.277202  -0.296095 -0.134556  0.477064  0.892601  2.292616   \n",
       "...         ...       ...        ...       ...       ...       ...       ...   \n",
       "33903  1.429835 -0.277202   1.042035 -0.134556  0.147312 -1.120322 -0.436183   \n",
       "33904 -0.098609 -1.920158   1.042035 -0.134556 -0.270332  0.892601 -0.436183   \n",
       "33905 -0.098609 -0.277202   1.042035 -0.134556  0.904652 -1.120322 -0.436183   \n",
       "33906 -1.321363 -0.277202   2.380164 -0.134556  0.132235 -1.120322 -0.436183   \n",
       "33907 -1.015675 -0.277202   2.380164 -0.134556 -0.327750  0.892601 -0.436183   \n",
       "\n",
       "        contact       day     month  duration  campaign     pdays  previous  \\\n",
       "0     -0.711169  0.143594 -1.840886  0.327199 -0.246900  2.757560  1.276209   \n",
       "1      1.520502 -0.938191  0.822443 -0.047997 -0.246900 -0.409922 -0.299175   \n",
       "2     -0.711169  1.585975 -0.176306 -0.427061  3.891759 -0.409922 -0.299175   \n",
       "3      1.520502 -1.659382  0.156610 -0.171773 -0.246900 -0.409922 -0.299175   \n",
       "4     -0.711169  0.263793 -0.176306 -0.044129  0.708176 -0.409922 -0.299175   \n",
       "...         ...       ...       ...       ...       ...       ...       ...   \n",
       "33903 -0.711169 -0.217001  0.822443  0.230499  0.071459 -0.409922 -0.299175   \n",
       "33904 -0.711169  0.143594 -1.840886 -0.098281 -0.246900 -0.409922 -0.299175   \n",
       "33905  1.520502  0.624388  0.822443  0.404559  1.026534 -0.409922 -0.299175   \n",
       "33906  1.520502  0.504190  0.156610 -0.956977  2.618326 -0.409922 -0.299175   \n",
       "33907 -0.711169  0.143594 -1.840886 -0.307153 -0.246900  2.957402  0.751081   \n",
       "\n",
       "       poutcome  \n",
       "0     -1.581722  \n",
       "1      0.443503  \n",
       "2      0.443503  \n",
       "3      0.443503  \n",
       "4      0.443503  \n",
       "...         ...  \n",
       "33903  0.443503  \n",
       "33904  0.443503  \n",
       "33905  0.443503  \n",
       "33906  0.443503  \n",
       "33907 -1.581722  \n",
       "\n",
       "[33908 rows x 15 columns]"
      ]
     },
     "execution_count": 66,
     "metadata": {},
     "output_type": "execute_result"
    }
   ],
   "source": [
    "xtrain"
   ]
  },
  {
   "cell_type": "code",
   "execution_count": 67,
   "id": "bb5187e6",
   "metadata": {
    "ExecuteTime": {
     "end_time": "2023-02-08T12:50:43.932058Z",
     "start_time": "2023-02-08T12:50:43.864784Z"
    }
   },
   "outputs": [],
   "source": [
    "lg = LogisticRegression()\n",
    "\n",
    "lg.fit(xtrain,ytrain)\n",
    "ypred = lg.predict(xtest)"
   ]
  },
  {
   "cell_type": "code",
   "execution_count": 68,
   "id": "b41e3fc4",
   "metadata": {
    "ExecuteTime": {
     "end_time": "2023-02-08T12:50:48.373089Z",
     "start_time": "2023-02-08T12:50:48.353659Z"
    }
   },
   "outputs": [
    {
     "data": {
      "text/plain": [
       "array([0, 0, 0, ..., 0, 1, 0])"
      ]
     },
     "execution_count": 68,
     "metadata": {},
     "output_type": "execute_result"
    }
   ],
   "source": [
    "ypred"
   ]
  },
  {
   "cell_type": "code",
   "execution_count": 69,
   "id": "cbc30e2f",
   "metadata": {
    "ExecuteTime": {
     "end_time": "2023-02-08T12:51:13.054618Z",
     "start_time": "2023-02-08T12:51:13.036493Z"
    }
   },
   "outputs": [
    {
     "data": {
      "text/plain": [
       "11303"
      ]
     },
     "execution_count": 69,
     "metadata": {},
     "output_type": "execute_result"
    }
   ],
   "source": [
    "len(xtest)\n",
    "len(ytest)"
   ]
  },
  {
   "cell_type": "code",
   "execution_count": 70,
   "id": "6db565c5",
   "metadata": {
    "ExecuteTime": {
     "end_time": "2023-02-08T12:51:47.932063Z",
     "start_time": "2023-02-08T12:51:47.923917Z"
    }
   },
   "outputs": [
    {
     "data": {
      "text/plain": [
       "33908"
      ]
     },
     "execution_count": 70,
     "metadata": {},
     "output_type": "execute_result"
    }
   ],
   "source": [
    "len(xtrain)\n",
    "len(ytrain)"
   ]
  },
  {
   "cell_type": "code",
   "execution_count": 71,
   "id": "ecfb07ae",
   "metadata": {
    "ExecuteTime": {
     "end_time": "2023-02-08T12:52:11.292268Z",
     "start_time": "2023-02-08T12:52:11.282985Z"
    }
   },
   "outputs": [
    {
     "data": {
      "text/plain": [
       "0    39922\n",
       "1     5289\n",
       "Name: y, dtype: int64"
      ]
     },
     "execution_count": 71,
     "metadata": {},
     "output_type": "execute_result"
    }
   ],
   "source": [
    "df['y'].value_counts()"
   ]
  },
  {
   "cell_type": "markdown",
   "id": "6cfafde2",
   "metadata": {},
   "source": [
    "## Evalution of Matrix"
   ]
  },
  {
   "cell_type": "code",
   "execution_count": 72,
   "id": "91d1f216",
   "metadata": {
    "ExecuteTime": {
     "end_time": "2023-02-08T12:53:02.553180Z",
     "start_time": "2023-02-08T12:53:02.543109Z"
    }
   },
   "outputs": [
    {
     "data": {
      "text/plain": [
       "array([[9797,  201],\n",
       "       [1023,  282]], dtype=int64)"
      ]
     },
     "execution_count": 72,
     "metadata": {},
     "output_type": "execute_result"
    }
   ],
   "source": [
    "confusion_matrix(ytest,ypred)"
   ]
  },
  {
   "cell_type": "code",
   "execution_count": 73,
   "id": "318c7e44",
   "metadata": {
    "ExecuteTime": {
     "end_time": "2023-02-08T12:53:39.949702Z",
     "start_time": "2023-02-08T12:53:39.834972Z"
    }
   },
   "outputs": [
    {
     "data": {
      "text/plain": [
       "<AxesSubplot:>"
      ]
     },
     "execution_count": 73,
     "metadata": {},
     "output_type": "execute_result"
    },
    {
     "data": {
      "image/png": "[encoded data removed]",
      "text/plain": [
       "<Figure size 640x480 with 2 Axes>"
      ]
     },
     "metadata": {},
     "output_type": "display_data"
    }
   ],
   "source": [
    "sns.heatmap(confusion_matrix(ytest,ypred),annot=True)"
   ]
  },
  {
   "cell_type": "code",
   "execution_count": 74,
   "id": "a542df6c",
   "metadata": {
    "ExecuteTime": {
     "end_time": "2023-02-08T12:53:58.818253Z",
     "start_time": "2023-02-08T12:53:58.797029Z"
    }
   },
   "outputs": [
    {
     "name": "stdout",
     "output_type": "stream",
     "text": [
      "              precision    recall  f1-score   support\n",
      "\n",
      "           0       0.91      0.98      0.94      9998\n",
      "           1       0.58      0.22      0.32      1305\n",
      "\n",
      "    accuracy                           0.89     11303\n",
      "   macro avg       0.74      0.60      0.63     11303\n",
      "weighted avg       0.87      0.89      0.87     11303\n",
      "\n"
     ]
    }
   ],
   "source": [
    "print(classification_report(ytest,ypred))"
   ]
  },
  {
   "cell_type": "markdown",
   "id": "26d78c26",
   "metadata": {},
   "source": [
    "## Hyperparameter Tunning"
   ]
  },
  {
   "cell_type": "code",
   "execution_count": 77,
   "id": "68acf9c9",
   "metadata": {
    "ExecuteTime": {
     "end_time": "2023-02-08T12:59:18.532153Z",
     "start_time": "2023-02-08T12:59:18.522187Z"
    }
   },
   "outputs": [
    {
     "data": {
      "text/plain": [
       "0.8917101654428028"
      ]
     },
     "execution_count": 77,
     "metadata": {},
     "output_type": "execute_result"
    }
   ],
   "source": [
    "accuracy_score(ytest,ypred)"
   ]
  },
  {
   "cell_type": "code",
   "execution_count": 78,
   "id": "7976c993",
   "metadata": {
    "ExecuteTime": {
     "end_time": "2023-02-08T12:59:47.284069Z",
     "start_time": "2023-02-08T12:59:47.269019Z"
    }
   },
   "outputs": [
    {
     "name": "stdout",
     "output_type": "stream",
     "text": [
      "[0 0 0 ... 0 0 0]\n",
      "[0 0 0 ... 0 1 0]\n"
     ]
    }
   ],
   "source": [
    "print(ytest.values)\n",
    "\n",
    "print(ypred)"
   ]
  },
  {
   "cell_type": "code",
   "execution_count": 79,
   "id": "93cb8bc4",
   "metadata": {
    "ExecuteTime": {
     "end_time": "2023-02-08T13:00:23.082427Z",
     "start_time": "2023-02-08T13:00:23.071444Z"
    }
   },
   "outputs": [
    {
     "data": {
      "text/plain": [
       "array([0.01393614, 0.04000714, 0.27592387, ..., 0.24893926, 0.81114254,\n",
       "       0.01453952])"
      ]
     },
     "execution_count": 79,
     "metadata": {},
     "output_type": "execute_result"
    }
   ],
   "source": [
    "proba = lg.predict_proba(xtest)[:,1]\n",
    "proba"
   ]
  },
  {
   "cell_type": "code",
   "execution_count": 80,
   "id": "761d23ab",
   "metadata": {
    "ExecuteTime": {
     "end_time": "2023-02-08T13:04:24.912317Z",
     "start_time": "2023-02-08T13:04:24.810491Z"
    }
   },
   "outputs": [
    {
     "data": {
      "text/plain": [
       "Text(0, 0.5, 'True Positive Rate')"
      ]
     },
     "execution_count": 80,
     "metadata": {},
     "output_type": "execute_result"
    },
    {
     "data": {
      "image/png": "[encoded data removed]",
      "text/plain": [
       "<Figure size 640x480 with 1 Axes>"
      ]
     },
     "metadata": {},
     "output_type": "display_data"
    }
   ],
   "source": [
    "auc = roc_auc_score(ytest,proba)\n",
    "\n",
    "fpr,tpr,threshold = roc_curve(ytest,proba)\n",
    "\n",
    "plt.plot(fpr,tpr,color = 'red',label = 'AUC=%0.2f'%auc)\n",
    "plt.xlabel('False Positive Rate')\n",
    "plt.ylabel('True Positive Rate')"
   ]
  },
  {
   "cell_type": "code",
   "execution_count": 81,
   "id": "65f86ef9",
   "metadata": {
    "ExecuteTime": {
     "end_time": "2023-02-08T13:04:48.514208Z",
     "start_time": "2023-02-08T13:04:48.499077Z"
    }
   },
   "outputs": [
    {
     "data": {
      "text/plain": [
       "array([1.99999941e+00, 9.99999407e-01, 9.99973582e-01, ...,\n",
       "       1.28382558e-02, 1.28320364e-02, 5.22773249e-05])"
      ]
     },
     "execution_count": 81,
     "metadata": {},
     "output_type": "execute_result"
    }
   ],
   "source": [
    "threshold"
   ]
  },
  {
   "cell_type": "code",
   "execution_count": 84,
   "id": "fc1b2672",
   "metadata": {
    "ExecuteTime": {
     "end_time": "2023-02-08T13:05:52.606446Z",
     "start_time": "2023-02-08T13:05:51.674587Z"
    }
   },
   "outputs": [
    {
     "data": {
      "text/html": [
       "<div>\n",
       "<style scoped>\n",
       "    .dataframe tbody tr th:only-of-type {\n",
       "        vertical-align: middle;\n",
       "    }\n",
       "\n",
       "    .dataframe tbody tr th {\n",
       "        vertical-align: top;\n",
       "    }\n",
       "\n",
       "    .dataframe thead th {\n",
       "        text-align: right;\n",
       "    }\n",
       "</style>\n",
       "<table border=\"1\" class=\"dataframe\">\n",
       "  <thead>\n",
       "    <tr style=\"text-align: right;\">\n",
       "      <th></th>\n",
       "      <th>Accuracy</th>\n",
       "      <th>Threshold</th>\n",
       "    </tr>\n",
       "  </thead>\n",
       "  <tbody>\n",
       "    <tr>\n",
       "      <th>294</th>\n",
       "      <td>0.891887</td>\n",
       "      <td>0.436880</td>\n",
       "    </tr>\n",
       "    <tr>\n",
       "      <th>232</th>\n",
       "      <td>0.891887</td>\n",
       "      <td>0.496955</td>\n",
       "    </tr>\n",
       "    <tr>\n",
       "      <th>231</th>\n",
       "      <td>0.891887</td>\n",
       "      <td>0.497196</td>\n",
       "    </tr>\n",
       "    <tr>\n",
       "      <th>230</th>\n",
       "      <td>0.891799</td>\n",
       "      <td>0.499498</td>\n",
       "    </tr>\n",
       "    <tr>\n",
       "      <th>254</th>\n",
       "      <td>0.891799</td>\n",
       "      <td>0.473812</td>\n",
       "    </tr>\n",
       "    <tr>\n",
       "      <th>...</th>\n",
       "      <td>...</td>\n",
       "      <td>...</td>\n",
       "    </tr>\n",
       "    <tr>\n",
       "      <th>1742</th>\n",
       "      <td>0.249403</td>\n",
       "      <td>0.013935</td>\n",
       "    </tr>\n",
       "    <tr>\n",
       "      <th>1743</th>\n",
       "      <td>0.249314</td>\n",
       "      <td>0.013927</td>\n",
       "    </tr>\n",
       "    <tr>\n",
       "      <th>1744</th>\n",
       "      <td>0.234716</td>\n",
       "      <td>0.012838</td>\n",
       "    </tr>\n",
       "    <tr>\n",
       "      <th>1745</th>\n",
       "      <td>0.234628</td>\n",
       "      <td>0.012832</td>\n",
       "    </tr>\n",
       "    <tr>\n",
       "      <th>1746</th>\n",
       "      <td>0.115545</td>\n",
       "      <td>0.000052</td>\n",
       "    </tr>\n",
       "  </tbody>\n",
       "</table>\n",
       "<p>1747 rows × 2 columns</p>\n",
       "</div>"
      ],
      "text/plain": [
       "      Accuracy  Threshold\n",
       "294   0.891887   0.436880\n",
       "232   0.891887   0.496955\n",
       "231   0.891887   0.497196\n",
       "230   0.891799   0.499498\n",
       "254   0.891799   0.473812\n",
       "...        ...        ...\n",
       "1742  0.249403   0.013935\n",
       "1743  0.249314   0.013927\n",
       "1744  0.234716   0.012838\n",
       "1745  0.234628   0.012832\n",
       "1746  0.115545   0.000052\n",
       "\n",
       "[1747 rows x 2 columns]"
      ]
     },
     "execution_count": 84,
     "metadata": {},
     "output_type": "execute_result"
    }
   ],
   "source": [
    "for i in threshold:\n",
    "    ypred = np.where(proba>i,1,0)\n",
    "    accuracy.append(accuracy_score(ytest,ypred))\n",
    "    \n",
    "\n",
    "threshold_selection = pd.concat([pd.Series(accuracy),pd.Series(threshold)],axis=1)\n",
    "threshold_selection.columns = ['Accuracy','Threshold']\n",
    "threshold_selection.sort_values(by = 'Accuracy',ascending = False)\n",
    "        \n",
    "#Same accuracy is shown"
   ]
  },
  {
   "cell_type": "code",
   "execution_count": 85,
   "id": "1f96a532",
   "metadata": {
    "ExecuteTime": {
     "end_time": "2023-02-08T13:07:18.316123Z",
     "start_time": "2023-02-08T13:07:18.297999Z"
    }
   },
   "outputs": [],
   "source": [
    "from sklearn.preprocessing import binarize"
   ]
  },
  {
   "cell_type": "code",
   "execution_count": 86,
   "id": "f1e6cc73",
   "metadata": {
    "ExecuteTime": {
     "end_time": "2023-02-08T13:18:32.532446Z",
     "start_time": "2023-02-08T13:18:32.520950Z"
    }
   },
   "outputs": [],
   "source": [
    "final_y = binarize([proba],threshold=0.43)[0]"
   ]
  },
  {
   "cell_type": "code",
   "execution_count": 87,
   "id": "293c2c5d",
   "metadata": {
    "ExecuteTime": {
     "end_time": "2023-02-08T13:18:59.336427Z",
     "start_time": "2023-02-08T13:18:59.309929Z"
    }
   },
   "outputs": [
    {
     "name": "stdout",
     "output_type": "stream",
     "text": [
      "              precision    recall  f1-score   support\n",
      "\n",
      "           0       0.91      0.97      0.94      9998\n",
      "           1       0.57      0.27      0.36      1305\n",
      "\n",
      "    accuracy                           0.89     11303\n",
      "   macro avg       0.74      0.62      0.65     11303\n",
      "weighted avg       0.87      0.89      0.87     11303\n",
      "\n"
     ]
    }
   ],
   "source": [
    "print(classification_report(ytest,final_y))"
   ]
  },
  {
   "cell_type": "code",
   "execution_count": 88,
   "id": "547ebc0d",
   "metadata": {
    "ExecuteTime": {
     "end_time": "2023-02-08T13:19:28.444591Z",
     "start_time": "2023-02-08T13:19:28.429027Z"
    }
   },
   "outputs": [],
   "source": [
    "ypred = pd.DataFrame(ypred)"
   ]
  },
  {
   "cell_type": "code",
   "execution_count": 89,
   "id": "9d7b1bce",
   "metadata": {
    "ExecuteTime": {
     "end_time": "2023-02-08T13:19:34.959497Z",
     "start_time": "2023-02-08T13:19:34.940966Z"
    }
   },
   "outputs": [
    {
     "data": {
      "text/html": [
       "<div>\n",
       "<style scoped>\n",
       "    .dataframe tbody tr th:only-of-type {\n",
       "        vertical-align: middle;\n",
       "    }\n",
       "\n",
       "    .dataframe tbody tr th {\n",
       "        vertical-align: top;\n",
       "    }\n",
       "\n",
       "    .dataframe thead th {\n",
       "        text-align: right;\n",
       "    }\n",
       "</style>\n",
       "<table border=\"1\" class=\"dataframe\">\n",
       "  <thead>\n",
       "    <tr style=\"text-align: right;\">\n",
       "      <th></th>\n",
       "      <th>0</th>\n",
       "    </tr>\n",
       "  </thead>\n",
       "  <tbody>\n",
       "    <tr>\n",
       "      <th>0</th>\n",
       "      <td>1</td>\n",
       "    </tr>\n",
       "    <tr>\n",
       "      <th>1</th>\n",
       "      <td>1</td>\n",
       "    </tr>\n",
       "    <tr>\n",
       "      <th>2</th>\n",
       "      <td>1</td>\n",
       "    </tr>\n",
       "    <tr>\n",
       "      <th>3</th>\n",
       "      <td>1</td>\n",
       "    </tr>\n",
       "    <tr>\n",
       "      <th>4</th>\n",
       "      <td>1</td>\n",
       "    </tr>\n",
       "    <tr>\n",
       "      <th>...</th>\n",
       "      <td>...</td>\n",
       "    </tr>\n",
       "    <tr>\n",
       "      <th>11298</th>\n",
       "      <td>1</td>\n",
       "    </tr>\n",
       "    <tr>\n",
       "      <th>11299</th>\n",
       "      <td>1</td>\n",
       "    </tr>\n",
       "    <tr>\n",
       "      <th>11300</th>\n",
       "      <td>1</td>\n",
       "    </tr>\n",
       "    <tr>\n",
       "      <th>11301</th>\n",
       "      <td>1</td>\n",
       "    </tr>\n",
       "    <tr>\n",
       "      <th>11302</th>\n",
       "      <td>1</td>\n",
       "    </tr>\n",
       "  </tbody>\n",
       "</table>\n",
       "<p>11303 rows × 1 columns</p>\n",
       "</div>"
      ],
      "text/plain": [
       "       0\n",
       "0      1\n",
       "1      1\n",
       "2      1\n",
       "3      1\n",
       "4      1\n",
       "...   ..\n",
       "11298  1\n",
       "11299  1\n",
       "11300  1\n",
       "11301  1\n",
       "11302  1\n",
       "\n",
       "[11303 rows x 1 columns]"
      ]
     },
     "execution_count": 89,
     "metadata": {},
     "output_type": "execute_result"
    }
   ],
   "source": [
    "ypred"
   ]
  },
  {
   "cell_type": "code",
   "execution_count": 90,
   "id": "119eedf6",
   "metadata": {
    "ExecuteTime": {
     "end_time": "2023-02-08T13:20:58.646650Z",
     "start_time": "2023-02-08T13:20:58.633418Z"
    }
   },
   "outputs": [
    {
     "data": {
      "text/plain": [
       "1    11302\n",
       "0        1\n",
       "dtype: int64"
      ]
     },
     "execution_count": 90,
     "metadata": {},
     "output_type": "execute_result"
    }
   ],
   "source": [
    "ypred.value_counts()"
   ]
  },
  {
   "cell_type": "code",
   "execution_count": null,
   "id": "39fb0082",
   "metadata": {},
   "outputs": [],
   "source": []
  },
  {
   "cell_type": "code",
   "execution_count": null,
   "id": "9d952028",
   "metadata": {},
   "outputs": [],
   "source": []
  }
 ],
 "metadata": {
  "kernelspec": {
   "display_name": "Python 3 (ipykernel)",
   "language": "python",
   "name": "python3"
  },
  "language_info": {
   "codemirror_mode": {
    "name": "ipython",
    "version": 3
   },
   "file_extension": ".py",
   "mimetype": "text/x-python",
   "name": "python",
   "nbconvert_exporter": "python",
   "pygments_lexer": "ipython3",
   "version": "3.9.13"
  }
 },
 "nbformat": 4,
 "nbformat_minor": 5
}
